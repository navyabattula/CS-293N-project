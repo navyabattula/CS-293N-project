{
 "cells": [
  {
   "cell_type": "code",
   "execution_count": null,
   "metadata": {},
   "outputs": [],
   "source": [
    "'''import os\n",
    "import subprocess\n",
    "x=0        \n",
    "inputdir = \"s3-2022-05-07-1215-ens4f0-2022-05-07-1215_splitted/s3-2022-05-07-1215-ens4f0-2022-05-07-1215_splitted\"\n",
    "for i in range(899325):\n",
    "    x=x+1\n",
    "    str1 = \"TLS-timeseries1/TLS\" + str(x)+\".csv\"\n",
    "    with open(str1,\"w\") as outfile:\n",
    "        for pcapFilename in os.listdir(inputdir):\n",
    "            if not pcapFilename.endswith(\".pcap\"):\n",
    "                continue\n",
    "            subprocess.run([\"tshark\", \"-r\",os.path.join(inputdir, pcapFilename),\"-T\", \"fields\", \"-E\", \"separator=/t\", \"-e\", \"ip.src\", \"-e\", \"tcp.srcport\", \"-e\", \"ip.dst\", \"-e\", \"tcp.dstport\", \"-e\", \"ip.proto\", \"-e\", \"frame.time\", \"-e\", \"frame.cap_len\"],stdout=outfile, check=True)'''"
   ]
  },
  {
   "cell_type": "code",
   "execution_count": null,
   "metadata": {},
   "outputs": [],
   "source": [
    "import os\n",
    "import subprocess\n",
    "x=0        \n",
    "inputdir = \"s3-2022-05-07-1215-ens4f0-2022-05-07-1215_splitted/s3-2022-05-07-1215-ens4f0-2022-05-07-1215_splitted\"\n",
    "for pcapFilename in os.listdir(inputdir):\n",
    "            if not pcapFilename.endswith(\".pcap\"):\n",
    "                continue\n",
    "            else:\n",
    "                x=x+1\n",
    "                str1 = \"TLS-timeseries1/TLS\" + str(x)+\".csv\"\n",
    "                with open(str1,\"w\") as outfile:\n",
    "                    subprocess.run([\"tshark\", \"-r\",os.path.join(inputdir, pcapFilename),\"-T\", \"fields\", \"-E\", \"separator=/t\", \"-e\", \"ip.src\", \"-e\", \"tcp.srcport\", \"-e\", \"ip.dst\", \"-e\", \"tcp.dstport\", \"-e\", \"ip.proto\", \"-e\", \"frame.time\", \"-e\", \"frame.cap_len\"],stdout=outfile, check=True)"
   ]
  },
  {
   "cell_type": "code",
   "execution_count": null,
   "metadata": {},
   "outputs": [],
   "source": []
  }
 ],
 "metadata": {
  "kernelspec": {
   "display_name": "Python 3",
   "language": "python",
   "name": "python3"
  },
  "language_info": {
   "codemirror_mode": {
    "name": "ipython",
    "version": 3
   },
   "file_extension": ".py",
   "mimetype": "text/x-python",
   "name": "python",
   "nbconvert_exporter": "python",
   "pygments_lexer": "ipython3",
   "version": "3.8.5"
  }
 },
 "nbformat": 4,
 "nbformat_minor": 4
}
