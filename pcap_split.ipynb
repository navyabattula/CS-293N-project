{
 "cells": [
  {
   "cell_type": "code",
   "execution_count": 1,
   "id": "6f24e22d-e9c7-4ee1-9c00-268715f5b34d",
   "metadata": {},
   "outputs": [],
   "source": [
    "from pcap_splitter.splitter import PcapSplitter"
   ]
  },
  {
   "cell_type": "code",
   "execution_count": 2,
   "id": "734874cb-0185-4b20-a12c-184ecb4ab18d",
   "metadata": {},
   "outputs": [],
   "source": [
    "ps = PcapSplitter(\"s3-2022-05-07-1215-ens4f0-2022-05-07-1215.pcap\")"
   ]
  },
  {
   "cell_type": "code",
   "execution_count": 3,
   "id": "df802c3c-3006-4d7b-b526-87f65eac1246",
   "metadata": {},
   "outputs": [
    {
     "name": "stdout",
     "output_type": "stream",
     "text": [
      "Started...\n",
      "[ERROR: src/DnsLayer.cpp: parseResources:157         ] DNS layer contains more than 300 resources, probably a bad packet. Skipping parsing DNS resources\n",
      "[ERROR: src/DnsLayer.cpp: parseResources:157         ] DNS layer contains more than 300 resources, probably a bad packet. Skipping parsing DNS resources\n",
      "[ERROR: src/DnsLayer.cpp: parseResources:157         ] DNS layer contains more than 300 resources, probably a bad packet. Skipping parsing DNS resources\n",
      "[ERROR: src/DnsLayer.cpp: parseResources:157         ] DNS layer contains more than 300 resources, probably a bad packet. Skipping parsing DNS resources\n",
      "[ERROR: src/DnsLayer.cpp: parseResources:157         ] DNS layer contains more than 300 resources, probably a bad packet. Skipping parsing DNS resources\n",
      "[ERROR: src/DnsLayer.cpp: parseResources:157         ] DNS layer contains more than 300 resources, probably a bad packet. Skipping parsing DNS resources\n",
      "[ERROR: src/DnsLayer.cpp: parseResources:157         ] DNS layer contains more than 300 resources, probably a bad packet. Skipping parsing DNS resources\n",
      "[ERROR: src/DnsLayer.cpp: parseResources:157         ] DNS layer contains more than 300 resources, probably a bad packet. Skipping parsing DNS resources\n",
      "[ERROR: src/DnsLayer.cpp: parseResources:157         ] DNS layer contains more than 300 resources, probably a bad packet. Skipping parsing DNS resources\n",
      "[ERROR: src/DnsLayer.cpp: parseResources:157         ] DNS layer contains more than 300 resources, probably a bad packet. Skipping parsing DNS resources\n",
      "[ERROR: src/DnsLayer.cpp: parseResources:157         ] DNS layer contains more than 300 resources, probably a bad packet. Skipping parsing DNS resources\n",
      "[ERROR: src/DnsLayer.cpp: parseResources:157         ] DNS layer contains more than 300 resources, probably a bad packet. Skipping parsing DNS resources\n",
      "[ERROR: src/DnsLayer.cpp: parseResources:157         ] DNS layer contains more than 300 resources, probably a bad packet. Skipping parsing DNS resources\n",
      "[ERROR: src/DnsLayer.cpp: parseResources:157         ] DNS layer contains more than 300 resources, probably a bad packet. Skipping parsing DNS resources\n",
      "[ERROR: src/DnsLayer.cpp: parseResources:157         ] DNS layer contains more than 300 resources, probably a bad packet. Skipping parsing DNS resources\n",
      "[ERROR: src/DnsLayer.cpp: parseResources:157         ] DNS layer contains more than 300 resources, probably a bad packet. Skipping parsing DNS resources\n",
      "[ERROR: src/DnsLayer.cpp: parseResources:157         ] DNS layer contains more than 300 resources, probably a bad packet. Skipping parsing DNS resources\n",
      "Finished. Read and written 63263917 packets to 899325 files\n",
      "\n"
     ]
    }
   ],
   "source": [
    "print(ps.split_by_session(\"s3-2022-05-07-1215-ens4f0-2022-05-07-1215_splitted\", \"ip proto 6\"))"
   ]
  },
  {
   "cell_type": "code",
   "execution_count": null,
   "id": "dfe060ea-ddff-4575-a96b-672b72692b8c",
   "metadata": {},
   "outputs": [],
   "source": []
  }
 ],
 "metadata": {
  "kernelspec": {
   "display_name": "Python 3 (ipykernel)",
   "language": "python",
   "name": "python3"
  },
  "language_info": {
   "codemirror_mode": {
    "name": "ipython",
    "version": 3
   },
   "file_extension": ".py",
   "mimetype": "text/x-python",
   "name": "python",
   "nbconvert_exporter": "python",
   "pygments_lexer": "ipython3",
   "version": "3.8.12"
  }
 },
 "nbformat": 4,
 "nbformat_minor": 5
}
